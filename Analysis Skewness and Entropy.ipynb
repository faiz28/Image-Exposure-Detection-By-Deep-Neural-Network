{
 "cells": [
  {
   "cell_type": "code",
   "execution_count": 1,
   "id": "25bbfb22",
   "metadata": {},
   "outputs": [],
   "source": [
    "data = open('./Estimate_SkewnessEntropy_of_main_dataset.csv', 'r')\n"
   ]
  },
  {
   "cell_type": "code",
   "execution_count": null,
   "id": "981a9da4",
   "metadata": {},
   "outputs": [],
   "source": []
  }
 ],
 "metadata": {
  "kernelspec": {
   "display_name": "Python 3 (ipykernel)",
   "language": "python",
   "name": "python3"
  },
  "language_info": {
   "codemirror_mode": {
    "name": "ipython",
    "version": 3
   },
   "file_extension": ".py",
   "mimetype": "text/x-python",
   "name": "python",
   "nbconvert_exporter": "python",
   "pygments_lexer": "ipython3",
   "version": "3.10.4"
  }
 },
 "nbformat": 4,
 "nbformat_minor": 5
}
