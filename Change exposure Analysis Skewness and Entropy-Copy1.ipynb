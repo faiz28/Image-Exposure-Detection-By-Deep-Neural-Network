{
 "cells": [
  {
   "cell_type": "code",
   "execution_count": 345,
   "id": "2c3b995d",
   "metadata": {},
   "outputs": [],
   "source": [
    "import pandas as pd\n",
    "import numpy as np\n",
    "import matplotlib.pyplot as plt\n"
   ]
  },
  {
   "cell_type": "code",
   "execution_count": 346,
   "id": "9dfd57d9",
   "metadata": {},
   "outputs": [
    {
     "data": {
      "text/html": [
       "<div>\n",
       "<style scoped>\n",
       "    .dataframe tbody tr th:only-of-type {\n",
       "        vertical-align: middle;\n",
       "    }\n",
       "\n",
       "    .dataframe tbody tr th {\n",
       "        vertical-align: top;\n",
       "    }\n",
       "\n",
       "    .dataframe thead th {\n",
       "        text-align: right;\n",
       "    }\n",
       "</style>\n",
       "<table border=\"1\" class=\"dataframe\">\n",
       "  <thead>\n",
       "    <tr style=\"text-align: right;\">\n",
       "      <th></th>\n",
       "      <th>image-id</th>\n",
       "      <th>Normal</th>\n",
       "      <th>Normal.1</th>\n",
       "      <th>Normal.2</th>\n",
       "      <th>Normal.3</th>\n",
       "      <th>Normal.4</th>\n",
       "      <th>Normal.5</th>\n",
       "      <th>Normal.6</th>\n",
       "      <th>Normal.7</th>\n",
       "      <th>OverExposed</th>\n",
       "      <th>...</th>\n",
       "      <th>Green.2</th>\n",
       "      <th>Green.3</th>\n",
       "      <th>Blue</th>\n",
       "      <th>Blue.1</th>\n",
       "      <th>Blue.2</th>\n",
       "      <th>Blue.3</th>\n",
       "      <th>Gray</th>\n",
       "      <th>Gray.1</th>\n",
       "      <th>Gray.2</th>\n",
       "      <th>Gray.3</th>\n",
       "    </tr>\n",
       "  </thead>\n",
       "  <tbody>\n",
       "    <tr>\n",
       "      <th>0</th>\n",
       "      <td>image-id</td>\n",
       "      <td>Red</td>\n",
       "      <td>Red</td>\n",
       "      <td>Green</td>\n",
       "      <td>Green</td>\n",
       "      <td>Blue</td>\n",
       "      <td>Blue</td>\n",
       "      <td>Gray</td>\n",
       "      <td>Gray</td>\n",
       "      <td>Red</td>\n",
       "      <td>...</td>\n",
       "      <td>Entropy</td>\n",
       "      <td>Entropy</td>\n",
       "      <td>Skewness</td>\n",
       "      <td>Skewness</td>\n",
       "      <td>Entropy</td>\n",
       "      <td>Entropy</td>\n",
       "      <td>Skewness</td>\n",
       "      <td>Skewness</td>\n",
       "      <td>Entropy</td>\n",
       "      <td>Entropy</td>\n",
       "    </tr>\n",
       "    <tr>\n",
       "      <th>1</th>\n",
       "      <td>image-id</td>\n",
       "      <td>Skewness</td>\n",
       "      <td>Entropy</td>\n",
       "      <td>Skewness</td>\n",
       "      <td>Entropy</td>\n",
       "      <td>Skewness</td>\n",
       "      <td>Entropy</td>\n",
       "      <td>Skewness</td>\n",
       "      <td>Entropy</td>\n",
       "      <td>Skewness</td>\n",
       "      <td>...</td>\n",
       "      <td>average</td>\n",
       "      <td>standard deviation</td>\n",
       "      <td>average</td>\n",
       "      <td>standard deviation</td>\n",
       "      <td>average</td>\n",
       "      <td>standard deviation</td>\n",
       "      <td>average</td>\n",
       "      <td>standard deviation</td>\n",
       "      <td>average</td>\n",
       "      <td>standard deviation</td>\n",
       "    </tr>\n",
       "    <tr>\n",
       "      <th>2</th>\n",
       "      <td>a0001-jmac_DSC1459_0.JPG</td>\n",
       "      <td>2.1019976</td>\n",
       "      <td>4.608174</td>\n",
       "      <td>1.3383546</td>\n",
       "      <td>4.8429666</td>\n",
       "      <td>1.419794</td>\n",
       "      <td>4.817762</td>\n",
       "      <td>1.419749</td>\n",
       "      <td>4.8107038</td>\n",
       "      <td>2.3556502</td>\n",
       "      <td>...</td>\n",
       "      <td>4.768222199999999</td>\n",
       "      <td>0.07231860956683263</td>\n",
       "      <td>3.0621671666666668</td>\n",
       "      <td>2.136483199872723</td>\n",
       "      <td>4.605453533333333</td>\n",
       "      <td>0.15172238008031497</td>\n",
       "      <td>1.4292442</td>\n",
       "      <td>0.14299105664490577</td>\n",
       "      <td>4.747433466666666</td>\n",
       "      <td>0.05463592003174793</td>\n",
       "    </tr>\n",
       "    <tr>\n",
       "      <th>3</th>\n",
       "      <td>a0002-dgw_005_0.JPG</td>\n",
       "      <td>0.54448247</td>\n",
       "      <td>5.3113976</td>\n",
       "      <td>0.40849414</td>\n",
       "      <td>5.263343</td>\n",
       "      <td>0.43431446</td>\n",
       "      <td>5.2690783</td>\n",
       "      <td>0.48259425</td>\n",
       "      <td>5.2673893</td>\n",
       "      <td>1.6277936</td>\n",
       "      <td>...</td>\n",
       "      <td>5.095923633333334</td>\n",
       "      <td>0.23812808276542155</td>\n",
       "      <td>0.9727829199999999</td>\n",
       "      <td>0.38188920912037755</td>\n",
       "      <td>5.115528333333334</td>\n",
       "      <td>0.26286409287706486</td>\n",
       "      <td>1.0995650833333332</td>\n",
       "      <td>0.5311506933568984</td>\n",
       "      <td>5.0935212666666665</td>\n",
       "      <td>0.21618219745076656</td>\n",
       "    </tr>\n",
       "    <tr>\n",
       "      <th>4</th>\n",
       "      <td>a0006-IMG_2787_0.JPG</td>\n",
       "      <td>0.5673284</td>\n",
       "      <td>4.9034314</td>\n",
       "      <td>0.5872545</td>\n",
       "      <td>4.977412</td>\n",
       "      <td>0.7045587</td>\n",
       "      <td>5.1611195</td>\n",
       "      <td>0.59423643</td>\n",
       "      <td>4.974805</td>\n",
       "      <td>2.327781</td>\n",
       "      <td>...</td>\n",
       "      <td>4.743220666666667</td>\n",
       "      <td>0.174217783463368</td>\n",
       "      <td>2.0997502666666663</td>\n",
       "      <td>1.2446998951640629</td>\n",
       "      <td>4.974347600000001</td>\n",
       "      <td>0.13613633531723493</td>\n",
       "      <td>1.5178110433333334</td>\n",
       "      <td>0.8467036348812512</td>\n",
       "      <td>4.744489333333333</td>\n",
       "      <td>0.1704502990440975</td>\n",
       "    </tr>\n",
       "  </tbody>\n",
       "</table>\n",
       "<p>5 rows × 41 columns</p>\n",
       "</div>"
      ],
      "text/plain": [
       "                   image-id      Normal   Normal.1    Normal.2   Normal.3  \\\n",
       "0                  image-id         Red        Red       Green      Green   \n",
       "1                  image-id    Skewness    Entropy    Skewness    Entropy   \n",
       "2  a0001-jmac_DSC1459_0.JPG   2.1019976   4.608174   1.3383546  4.8429666   \n",
       "3       a0002-dgw_005_0.JPG  0.54448247  5.3113976  0.40849414   5.263343   \n",
       "4      a0006-IMG_2787_0.JPG   0.5673284  4.9034314   0.5872545   4.977412   \n",
       "\n",
       "     Normal.4   Normal.5    Normal.6   Normal.7 OverExposed  ...  \\\n",
       "0        Blue       Blue        Gray       Gray         Red  ...   \n",
       "1    Skewness    Entropy    Skewness    Entropy    Skewness  ...   \n",
       "2    1.419794   4.817762    1.419749  4.8107038   2.3556502  ...   \n",
       "3  0.43431446  5.2690783  0.48259425  5.2673893   1.6277936  ...   \n",
       "4   0.7045587  5.1611195  0.59423643   4.974805    2.327781  ...   \n",
       "\n",
       "             Green.2              Green.3                Blue  \\\n",
       "0            Entropy              Entropy            Skewness   \n",
       "1            average   standard deviation             average   \n",
       "2  4.768222199999999  0.07231860956683263  3.0621671666666668   \n",
       "3  5.095923633333334  0.23812808276542155  0.9727829199999999   \n",
       "4  4.743220666666667    0.174217783463368  2.0997502666666663   \n",
       "\n",
       "                Blue.1             Blue.2               Blue.3  \\\n",
       "0             Skewness            Entropy              Entropy   \n",
       "1   standard deviation            average   standard deviation   \n",
       "2    2.136483199872723  4.605453533333333  0.15172238008031497   \n",
       "3  0.38188920912037755  5.115528333333334  0.26286409287706486   \n",
       "4   1.2446998951640629  4.974347600000001  0.13613633531723493   \n",
       "\n",
       "                 Gray               Gray.1              Gray.2  \\\n",
       "0            Skewness             Skewness             Entropy   \n",
       "1             average   standard deviation             average   \n",
       "2           1.4292442  0.14299105664490577   4.747433466666666   \n",
       "3  1.0995650833333332   0.5311506933568984  5.0935212666666665   \n",
       "4  1.5178110433333334   0.8467036348812512   4.744489333333333   \n",
       "\n",
       "                Gray.3  \n",
       "0              Entropy  \n",
       "1   standard deviation  \n",
       "2  0.05463592003174793  \n",
       "3  0.21618219745076656  \n",
       "4   0.1704502990440975  \n",
       "\n",
       "[5 rows x 41 columns]"
      ]
     },
     "execution_count": 346,
     "metadata": {},
     "output_type": "execute_result"
    }
   ],
   "source": [
    "df = pd.read_csv('Estimate_SkewnessEntropy_of_change_exposure_data.csv')\n",
    "df.head()\n",
    "# print(df.to_string())\n"
   ]
  },
  {
   "cell_type": "code",
   "execution_count": 347,
   "id": "eaeca23d",
   "metadata": {},
   "outputs": [
    {
     "data": {
      "text/plain": [
       "Index(['image-id', 'Normal', 'Normal.1', 'Normal.2', 'Normal.3', 'Normal.4',\n",
       "       'Normal.5', 'Normal.6', 'Normal.7', 'OverExposed', 'OverExposed.1',\n",
       "       'OverExposed.2', 'OverExposed.3', 'OverExposed.4', 'OverExposed.5',\n",
       "       'OverExposed.6', 'OverExposed.7', 'UnderExposed', 'UnderExposed.1',\n",
       "       'UnderExposed.2', 'UnderExposed.3', 'UnderExposed.4', 'UnderExposed.5',\n",
       "       'UnderExposed.6', 'UnderExposed.7', 'Red', 'Red.1', 'Red.2', 'Red.3',\n",
       "       'Green', 'Green.1', 'Green.2', 'Green.3', 'Blue', 'Blue.1', 'Blue.2',\n",
       "       'Blue.3', 'Gray', 'Gray.1', 'Gray.2', 'Gray.3'],\n",
       "      dtype='object')"
      ]
     },
     "execution_count": 347,
     "metadata": {},
     "output_type": "execute_result"
    }
   ],
   "source": [
    "df.columns"
   ]
  },
  {
   "cell_type": "markdown",
   "id": "4967aab7",
   "metadata": {},
   "source": [
    "**------------Normal green image entropy and skewness-----------------**"
   ]
  },
  {
   "cell_type": "markdown",
   "id": "136397a1",
   "metadata": {},
   "source": [
    "**Skewness**"
   ]
  },
  {
   "cell_type": "code",
   "execution_count": 349,
   "id": "a49b4e88",
   "metadata": {},
   "outputs": [],
   "source": [
    "# Normal image\n",
    "Green_Normal_skewness = df[\"Normal.2\"][2:]\n",
    "Green_Normal_skewness =  Green_Normal_skewness.astype(float)\n",
    "ax =  np.arange(0,Green_Normal_skewness.count(),1)\n",
    "\n",
    "# Overexposed iamge\n",
    "Overexposed_skewness = df[\"OverExposed.2\"][2:]\n",
    "Overexposed_skewness =  Overexposed_skewness.astype(float)\n",
    "\n",
    "#Underexposed image\n",
    "Underexposed_skewness = df[\"UnderExposed.2\"][2:]\n",
    "Underexposed_skewness =  Underexposed_skewness.astype(float)"
   ]
  },
  {
   "cell_type": "code",
   "execution_count": 350,
   "id": "b7f880d0",
   "metadata": {
    "scrolled": true
   },
   "outputs": [
    {
     "data": {
      "image/png": "[encoded data removed]",
      "text/plain": [
       "<Figure size 432x288 with 1 Axes>"
      ]
     },
     "metadata": {
      "needs_background": "light"
     },
     "output_type": "display_data"
    },
    {
     "data": {
      "image/png": "[encoded data removed]",
      "text/plain": [
       "<Figure size 432x288 with 1 Axes>"
      ]
     },
     "metadata": {
      "needs_background": "light"
     },
     "output_type": "display_data"
    },
    {
     "data": {
      "image/png": "[encoded data removed]",
      "text/plain": [
       "<Figure size 432x288 with 1 Axes>"
      ]
     },
     "metadata": {
      "needs_background": "light"
     },
     "output_type": "display_data"
    }
   ],
   "source": [
    "plt.plot(ax,Green_Normal_skewness)\n",
    "plt.show()\n",
    "plt.plot(ax,Overexposed_skewness)\n",
    "plt.show()\n",
    "plt.plot(ax,Underexposed_skewness)\n",
    "plt.show()"
   ]
  },
  {
   "cell_type": "code",
   "execution_count": 379,
   "id": "1cb6df3e",
   "metadata": {},
   "outputs": [
    {
     "data": {
      "image/png": "[encoded data removed]",
      "text/plain": [
       "<Figure size 432x288 with 1 Axes>"
      ]
     },
     "metadata": {
      "needs_background": "light"
     },
     "output_type": "display_data"
    },
    {
     "data": {
      "image/png": "[encoded data removed]",
      "text/plain": [
       "<Figure size 432x288 with 1 Axes>"
      ]
     },
     "metadata": {
      "needs_background": "light"
     },
     "output_type": "display_data"
    },
    {
     "data": {
      "image/png": "[encoded data removed]",
      "text/plain": [
       "<Figure size 432x288 with 1 Axes>"
      ]
     },
     "metadata": {
      "needs_background": "light"
     },
     "output_type": "display_data"
    }
   ],
   "source": [
    "\n",
    "\n",
    "plt.hist(Green_Normal_skewness,np.arange(2.5,10,0.2))\n",
    "plt.show()\n",
    "plt.hist(Overexposed_skewness,np.arange(2.5,10,0.2))\n",
    "plt.show()\n",
    "plt.hist(Underexposed_skewness,np.arange(2.5,10,0.2))\n",
    "plt.show()\n"
   ]
  },
  {
   "cell_type": "markdown",
   "id": "6d2c792e",
   "metadata": {},
   "source": [
    "**Entropy**"
   ]
  },
  {
   "cell_type": "code",
   "execution_count": 354,
   "id": "4b8606cb",
   "metadata": {},
   "outputs": [],
   "source": [
    "# Normal image\n",
    "Green_Normal_entropy = df[\"Normal.3\"][2:]\n",
    "Green_Normal_entropy =  Green_Normal_entropy.astype(float)\n",
    "ax =  np.arange(0,Green_Normal_entropy.count(),1)\n",
    "\n",
    "# Overexposed iamge\n",
    "Overexposed_entropy = df[\"OverExposed.3\"][2:]\n",
    "Overexposed_entropy =  Overexposed_entropy.astype(float)\n",
    "\n",
    "#Underexposed image\n",
    "Underexposed_entropy = df[\"UnderExposed.3\"][2:]\n",
    "Underexposed_entropy =  Underexposed_entropy.astype(float)\n"
   ]
  },
  {
   "cell_type": "code",
   "execution_count": 357,
   "id": "87cef814",
   "metadata": {},
   "outputs": [
    {
     "data": {
      "image/png": "[encoded data removed]",
      "text/plain": [
       "<Figure size 432x288 with 1 Axes>"
      ]
     },
     "metadata": {
      "needs_background": "light"
     },
     "output_type": "display_data"
    },
    {
     "data": {
      "image/png": "[encoded data removed]",
      "text/plain": [
       "<Figure size 432x288 with 1 Axes>"
      ]
     },
     "metadata": {
      "needs_background": "light"
     },
     "output_type": "display_data"
    },
    {
     "data": {
      "image/png": "[encoded data removed]",
      "text/plain": [
       "<Figure size 432x288 with 1 Axes>"
      ]
     },
     "metadata": {
      "needs_background": "light"
     },
     "output_type": "display_data"
    }
   ],
   "source": [
    "plt.hist(Green_Normal_entropy,np.arange(0,5,0.1))\n",
    "plt.show()\n",
    "plt.hist(Overexposed_entropy,np.arange(0,5,0.1))\n",
    "plt.show()\n",
    "plt.hist(Underexposed_entropy,np.arange(0,5,0.1))\n",
    "plt.show()"
   ]
  },
  {
   "cell_type": "code",
   "execution_count": null,
   "id": "2e6f564e",
   "metadata": {},
   "outputs": [],
   "source": []
  },
  {
   "cell_type": "code",
   "execution_count": null,
   "id": "7a0af5f1",
   "metadata": {},
   "outputs": [],
   "source": []
  },
  {
   "cell_type": "markdown",
   "id": "82fb2f45",
   "metadata": {},
   "source": [
    "**Load Model Prediction output**"
   ]
  },
  {
   "cell_type": "markdown",
   "id": "aa8e2502",
   "metadata": {},
   "source": [
    "**Normal Image detected as Normal**"
   ]
  },
  {
   "cell_type": "code",
   "execution_count": 358,
   "id": "6e370660",
   "metadata": {},
   "outputs": [],
   "source": [
    "Dir  = './Wrong-place/Normal/'\n",
    "normal = pd.read_csv(Dir+'Normal.txt')\n",
    "overexposed = pd.read_csv(Dir+'OverExposed.txt')\n",
    "underexposed = pd.read_csv(Dir+'UnderExposed.txt')\n",
    "normal.columns = ['image']  #add heading of image\n",
    "overexposed.columns = ['image']  #add heading of image\n",
    "underexposed.columns = ['image']  #add heading of image\n",
    "image_id = df['image-id'][2:].str[:5]"
   ]
  },
  {
   "cell_type": "markdown",
   "id": "faf728aa",
   "metadata": {},
   "source": [
    "**Find the similar index**"
   ]
  },
  {
   "cell_type": "code",
   "execution_count": 359,
   "id": "e56bc4e0",
   "metadata": {},
   "outputs": [],
   "source": [
    "# make a broadcasted comparison\n",
    "mat = normal['image'].values == df['image-id'].values[:, None]\n",
    "# find the indices where the values are True\n",
    "where = np.argwhere(mat)\n",
    "index = where[:,0]\n",
    "# select the values\n",
    "# values = df['image-id'][where[:, 0]]\n",
    "# print(where)\n",
    "# print(where[:,0])"
   ]
  },
  {
   "cell_type": "code",
   "execution_count": 360,
   "id": "ea6397e6",
   "metadata": {},
   "outputs": [
    {
     "name": "stdout",
     "output_type": "stream",
     "text": [
      "Total image = 199 \n"
     ]
    },
    {
     "data": {
      "text/html": [
       "<div>\n",
       "<style scoped>\n",
       "    .dataframe tbody tr th:only-of-type {\n",
       "        vertical-align: middle;\n",
       "    }\n",
       "\n",
       "    .dataframe tbody tr th {\n",
       "        vertical-align: top;\n",
       "    }\n",
       "\n",
       "    .dataframe thead th {\n",
       "        text-align: right;\n",
       "    }\n",
       "</style>\n",
       "<table border=\"1\" class=\"dataframe\">\n",
       "  <thead>\n",
       "    <tr style=\"text-align: right;\">\n",
       "      <th></th>\n",
       "      <th>image-id</th>\n",
       "      <th>Normal</th>\n",
       "      <th>Normal.1</th>\n",
       "      <th>Normal.2</th>\n",
       "      <th>Normal.3</th>\n",
       "      <th>Normal.4</th>\n",
       "      <th>Normal.5</th>\n",
       "      <th>Normal.6</th>\n",
       "      <th>Normal.7</th>\n",
       "      <th>OverExposed</th>\n",
       "      <th>...</th>\n",
       "      <th>Green.2</th>\n",
       "      <th>Green.3</th>\n",
       "      <th>Blue</th>\n",
       "      <th>Blue.1</th>\n",
       "      <th>Blue.2</th>\n",
       "      <th>Blue.3</th>\n",
       "      <th>Gray</th>\n",
       "      <th>Gray.1</th>\n",
       "      <th>Gray.2</th>\n",
       "      <th>Gray.3</th>\n",
       "    </tr>\n",
       "  </thead>\n",
       "  <tbody>\n",
       "    <tr>\n",
       "      <th>26</th>\n",
       "      <td>a0049-_I2E5952_0.JPG</td>\n",
       "      <td>1.3306348</td>\n",
       "      <td>4.900429</td>\n",
       "      <td>1.1959609</td>\n",
       "      <td>4.8511305</td>\n",
       "      <td>1.112726</td>\n",
       "      <td>4.788157</td>\n",
       "      <td>1.2508461</td>\n",
       "      <td>4.867041</td>\n",
       "      <td>3.3811522</td>\n",
       "      <td>...</td>\n",
       "      <td>4.661752866666666</td>\n",
       "      <td>0.18542745446940218</td>\n",
       "      <td>1.6568586666666667</td>\n",
       "      <td>0.4596457575433015</td>\n",
       "      <td>4.6290884</td>\n",
       "      <td>0.23840044645068656</td>\n",
       "      <td>1.8802995999999998</td>\n",
       "      <td>0.6362097771189364</td>\n",
       "      <td>4.672395566666667</td>\n",
       "      <td>0.1649430470957847</td>\n",
       "    </tr>\n",
       "    <tr>\n",
       "      <th>32</th>\n",
       "      <td>a0068-LS051026_day_1_arive53_0.JPG</td>\n",
       "      <td>5.6600647</td>\n",
       "      <td>5.2805552</td>\n",
       "      <td>7.822614</td>\n",
       "      <td>5.2521105</td>\n",
       "      <td>7.726835</td>\n",
       "      <td>5.2670517</td>\n",
       "      <td>5.4755797</td>\n",
       "      <td>5.265849</td>\n",
       "      <td>8.055634</td>\n",
       "      <td>...</td>\n",
       "      <td>5.077881633333334</td>\n",
       "      <td>0.12347921501533034</td>\n",
       "      <td>7.206401333333333</td>\n",
       "      <td>3.8357222535232594</td>\n",
       "      <td>5.135277899999999</td>\n",
       "      <td>0.13615584711604067</td>\n",
       "      <td>5.145599933333333</td>\n",
       "      <td>2.53819960726951</td>\n",
       "      <td>5.097769333333333</td>\n",
       "      <td>0.1230554337587559</td>\n",
       "    </tr>\n",
       "    <tr>\n",
       "      <th>35</th>\n",
       "      <td>a0076-jmac_MG_5736_0.JPG</td>\n",
       "      <td>1.1555077</td>\n",
       "      <td>5.197942</td>\n",
       "      <td>1.2236832</td>\n",
       "      <td>5.1344757</td>\n",
       "      <td>1.037253</td>\n",
       "      <td>5.071232</td>\n",
       "      <td>1.1817043</td>\n",
       "      <td>5.146799</td>\n",
       "      <td>2.045027</td>\n",
       "      <td>...</td>\n",
       "      <td>4.994691833333333</td>\n",
       "      <td>0.21079187149961198</td>\n",
       "      <td>2.781958433333333</td>\n",
       "      <td>1.4246238531524413</td>\n",
       "      <td>4.924724</td>\n",
       "      <td>0.1610681578466295</td>\n",
       "      <td>2.1922798333333335</td>\n",
       "      <td>0.7249140101691939</td>\n",
       "      <td>5.002859233333333</td>\n",
       "      <td>0.21079852937083995</td>\n",
       "    </tr>\n",
       "    <tr>\n",
       "      <th>41</th>\n",
       "      <td>a0085-kme_215_0.JPG</td>\n",
       "      <td>2.1744018</td>\n",
       "      <td>4.780057</td>\n",
       "      <td>2.1012022</td>\n",
       "      <td>4.766624</td>\n",
       "      <td>2.1236</td>\n",
       "      <td>4.7101774</td>\n",
       "      <td>2.1647327</td>\n",
       "      <td>4.7590046</td>\n",
       "      <td>4.2671328</td>\n",
       "      <td>...</td>\n",
       "      <td>4.534109</td>\n",
       "      <td>0.1826808638381884</td>\n",
       "      <td>2.9319553</td>\n",
       "      <td>1.5131099035723015</td>\n",
       "      <td>4.4876283</td>\n",
       "      <td>0.1970361256608713</td>\n",
       "      <td>2.876227333333333</td>\n",
       "      <td>1.3324564091155409</td>\n",
       "      <td>4.528942533333333</td>\n",
       "      <td>0.18274310451460402</td>\n",
       "    </tr>\n",
       "    <tr>\n",
       "      <th>50</th>\n",
       "      <td>a0100-AlexWed07-9691_0.JPG</td>\n",
       "      <td>0.4659653</td>\n",
       "      <td>4.9188395</td>\n",
       "      <td>0.42839468</td>\n",
       "      <td>4.9701767</td>\n",
       "      <td>1.3362956</td>\n",
       "      <td>4.882498</td>\n",
       "      <td>0.50809616</td>\n",
       "      <td>4.9316354</td>\n",
       "      <td>1.2265893</td>\n",
       "      <td>...</td>\n",
       "      <td>4.8142448</td>\n",
       "      <td>0.2882953502774888</td>\n",
       "      <td>1.9842896666666665</td>\n",
       "      <td>0.6158406988551738</td>\n",
       "      <td>4.763286999999999</td>\n",
       "      <td>0.3190152874460092</td>\n",
       "      <td>1.23781592</td>\n",
       "      <td>0.517584289218631</td>\n",
       "      <td>4.781851966666667</td>\n",
       "      <td>0.2965520359750302</td>\n",
       "    </tr>\n",
       "  </tbody>\n",
       "</table>\n",
       "<p>5 rows × 41 columns</p>\n",
       "</div>"
      ],
      "text/plain": [
       "                              image-id     Normal   Normal.1    Normal.2  \\\n",
       "26                a0049-_I2E5952_0.JPG  1.3306348   4.900429   1.1959609   \n",
       "32  a0068-LS051026_day_1_arive53_0.JPG  5.6600647  5.2805552    7.822614   \n",
       "35            a0076-jmac_MG_5736_0.JPG  1.1555077   5.197942   1.2236832   \n",
       "41                 a0085-kme_215_0.JPG  2.1744018   4.780057   2.1012022   \n",
       "50          a0100-AlexWed07-9691_0.JPG  0.4659653  4.9188395  0.42839468   \n",
       "\n",
       "     Normal.3   Normal.4   Normal.5    Normal.6   Normal.7 OverExposed  ...  \\\n",
       "26  4.8511305   1.112726   4.788157   1.2508461   4.867041   3.3811522  ...   \n",
       "32  5.2521105   7.726835  5.2670517   5.4755797   5.265849    8.055634  ...   \n",
       "35  5.1344757   1.037253   5.071232   1.1817043   5.146799    2.045027  ...   \n",
       "41   4.766624     2.1236  4.7101774   2.1647327  4.7590046   4.2671328  ...   \n",
       "50  4.9701767  1.3362956   4.882498  0.50809616  4.9316354   1.2265893  ...   \n",
       "\n",
       "              Green.2              Green.3                Blue  \\\n",
       "26  4.661752866666666  0.18542745446940218  1.6568586666666667   \n",
       "32  5.077881633333334  0.12347921501533034   7.206401333333333   \n",
       "35  4.994691833333333  0.21079187149961198   2.781958433333333   \n",
       "41           4.534109   0.1826808638381884           2.9319553   \n",
       "50          4.8142448   0.2882953502774888  1.9842896666666665   \n",
       "\n",
       "                Blue.1             Blue.2               Blue.3  \\\n",
       "26  0.4596457575433015          4.6290884  0.23840044645068656   \n",
       "32  3.8357222535232594  5.135277899999999  0.13615584711604067   \n",
       "35  1.4246238531524413           4.924724   0.1610681578466295   \n",
       "41  1.5131099035723015          4.4876283   0.1970361256608713   \n",
       "50  0.6158406988551738  4.763286999999999   0.3190152874460092   \n",
       "\n",
       "                  Gray              Gray.1             Gray.2  \\\n",
       "26  1.8802995999999998  0.6362097771189364  4.672395566666667   \n",
       "32   5.145599933333333    2.53819960726951  5.097769333333333   \n",
       "35  2.1922798333333335  0.7249140101691939  5.002859233333333   \n",
       "41   2.876227333333333  1.3324564091155409  4.528942533333333   \n",
       "50          1.23781592   0.517584289218631  4.781851966666667   \n",
       "\n",
       "                 Gray.3  \n",
       "26   0.1649430470957847  \n",
       "32   0.1230554337587559  \n",
       "35  0.21079852937083995  \n",
       "41  0.18274310451460402  \n",
       "50   0.2965520359750302  \n",
       "\n",
       "[5 rows x 41 columns]"
      ]
     },
     "execution_count": 360,
     "metadata": {},
     "output_type": "execute_result"
    }
   ],
   "source": [
    "normal_img = df.loc[index]\n",
    "print(\"Total image = %s \"%len(normal_img))\n",
    "normal_img.head()\n"
   ]
  },
  {
   "cell_type": "code",
   "execution_count": 367,
   "id": "3a66fd2f",
   "metadata": {},
   "outputs": [],
   "source": [
    "# Normal image\n",
    "Detected_green_Normal_skewness = normal_img[\"Normal.2\"][:]\n",
    "Detected_green_Normal_skewness =  Detected_green_Normal_skewness.astype(float)\n",
    "ax =  np.arange(0,Detected_green_Normal_skewness.count(),1)"
   ]
  },
  {
   "cell_type": "code",
   "execution_count": 368,
   "id": "536d8746",
   "metadata": {},
   "outputs": [
    {
     "data": {
      "image/png": "[encoded data removed]",
      "text/plain": [
       "<Figure size 432x288 with 1 Axes>"
      ]
     },
     "metadata": {
      "needs_background": "light"
     },
     "output_type": "display_data"
    }
   ],
   "source": [
    "plt.plot(ax,Detected_green_Normal_skewness)\n",
    "plt.show()"
   ]
  },
  {
   "cell_type": "code",
   "execution_count": null,
   "id": "d12be3e7",
   "metadata": {},
   "outputs": [],
   "source": []
  },
  {
   "cell_type": "markdown",
   "id": "9ca92c11",
   "metadata": {},
   "source": [
    "**Normal image but detected as overexposed**"
   ]
  },
  {
   "cell_type": "code",
   "execution_count": 369,
   "id": "d6d0996b",
   "metadata": {},
   "outputs": [
    {
     "name": "stdout",
     "output_type": "stream",
     "text": [
      "[ 934 1161 1175 1370 1376 1821]\n"
     ]
    }
   ],
   "source": [
    "# make a broadcasted comparison\n",
    "mat = overexposed['image'].values == df['image-id'].values[:, None]\n",
    "# find the indices where the values are True\n",
    "where = np.argwhere(mat)\n",
    "index = where[:,0]\n",
    "# select the values\n",
    "# values = df['image-id'][where[:, 0]]\n",
    "# print(where)\n",
    "print(where[:,0])"
   ]
  },
  {
   "cell_type": "code",
   "execution_count": 370,
   "id": "2d2c1092",
   "metadata": {},
   "outputs": [
    {
     "name": "stdout",
     "output_type": "stream",
     "text": [
      "Total image = 6 \n"
     ]
    },
    {
     "data": {
      "text/html": [
       "<div>\n",
       "<style scoped>\n",
       "    .dataframe tbody tr th:only-of-type {\n",
       "        vertical-align: middle;\n",
       "    }\n",
       "\n",
       "    .dataframe tbody tr th {\n",
       "        vertical-align: top;\n",
       "    }\n",
       "\n",
       "    .dataframe thead th {\n",
       "        text-align: right;\n",
       "    }\n",
       "</style>\n",
       "<table border=\"1\" class=\"dataframe\">\n",
       "  <thead>\n",
       "    <tr style=\"text-align: right;\">\n",
       "      <th></th>\n",
       "      <th>image-id</th>\n",
       "      <th>Normal</th>\n",
       "      <th>Normal.1</th>\n",
       "      <th>Normal.2</th>\n",
       "      <th>Normal.3</th>\n",
       "      <th>Normal.4</th>\n",
       "      <th>Normal.5</th>\n",
       "      <th>Normal.6</th>\n",
       "      <th>Normal.7</th>\n",
       "      <th>OverExposed</th>\n",
       "      <th>...</th>\n",
       "      <th>Green.2</th>\n",
       "      <th>Green.3</th>\n",
       "      <th>Blue</th>\n",
       "      <th>Blue.1</th>\n",
       "      <th>Blue.2</th>\n",
       "      <th>Blue.3</th>\n",
       "      <th>Gray</th>\n",
       "      <th>Gray.1</th>\n",
       "      <th>Gray.2</th>\n",
       "      <th>Gray.3</th>\n",
       "    </tr>\n",
       "  </thead>\n",
       "  <tbody>\n",
       "    <tr>\n",
       "      <th>934</th>\n",
       "      <td>a1895-kme_114_0.JPG</td>\n",
       "      <td>0.46160528</td>\n",
       "      <td>4.826983</td>\n",
       "      <td>0.5367674</td>\n",
       "      <td>4.791236</td>\n",
       "      <td>0.7264625</td>\n",
       "      <td>4.702248</td>\n",
       "      <td>0.5316521</td>\n",
       "      <td>4.7921596</td>\n",
       "      <td>2.8952487</td>\n",
       "      <td>...</td>\n",
       "      <td>4.485870566666667</td>\n",
       "      <td>0.5258084993829112</td>\n",
       "      <td>1.4719146</td>\n",
       "      <td>0.9404494532685634</td>\n",
       "      <td>4.4005301333333335</td>\n",
       "      <td>0.5326121853738442</td>\n",
       "      <td>1.3867685766666666</td>\n",
       "      <td>1.0532171186567552</td>\n",
       "      <td>4.487370366666667</td>\n",
       "      <td>0.5270731168253624</td>\n",
       "    </tr>\n",
       "    <tr>\n",
       "      <th>1161</th>\n",
       "      <td>a2380-20060208_203256__MG_2849_0.JPG</td>\n",
       "      <td>1.3021176</td>\n",
       "      <td>4.50629</td>\n",
       "      <td>1.3391248</td>\n",
       "      <td>4.614918</td>\n",
       "      <td>1.4874865</td>\n",
       "      <td>4.673078</td>\n",
       "      <td>1.3550206</td>\n",
       "      <td>4.5927496</td>\n",
       "      <td>2.9690685</td>\n",
       "      <td>...</td>\n",
       "      <td>4.313831033333334</td>\n",
       "      <td>0.415169588070115</td>\n",
       "      <td>2.2015664999999998</td>\n",
       "      <td>0.8160994527875672</td>\n",
       "      <td>4.368181233333334</td>\n",
       "      <td>0.4115385007844455</td>\n",
       "      <td>2.0490215333333333</td>\n",
       "      <td>0.8337004310564412</td>\n",
       "      <td>4.2869311</td>\n",
       "      <td>0.4214716538175967</td>\n",
       "    </tr>\n",
       "    <tr>\n",
       "      <th>1175</th>\n",
       "      <td>a2411-jmac_DSC1006_0.JPG</td>\n",
       "      <td>2.0422301</td>\n",
       "      <td>4.336164</td>\n",
       "      <td>1.5627952</td>\n",
       "      <td>4.5029435</td>\n",
       "      <td>1.555829</td>\n",
       "      <td>4.4796534</td>\n",
       "      <td>1.7444133</td>\n",
       "      <td>4.4446006</td>\n",
       "      <td>12.32152</td>\n",
       "      <td>...</td>\n",
       "      <td>4.333767566666666</td>\n",
       "      <td>0.34462441185561526</td>\n",
       "      <td>1.480206</td>\n",
       "      <td>0.26457724062172594</td>\n",
       "      <td>4.4373064</td>\n",
       "      <td>0.12994976359734842</td>\n",
       "      <td>2.1611816666666663</td>\n",
       "      <td>0.8736068800971535</td>\n",
       "      <td>4.2484534</td>\n",
       "      <td>0.40556702039385145</td>\n",
       "    </tr>\n",
       "    <tr>\n",
       "      <th>1370</th>\n",
       "      <td>a2822-jmac_MG_1389_0.JPG</td>\n",
       "      <td>5.71573</td>\n",
       "      <td>4.730751</td>\n",
       "      <td>5.083129</td>\n",
       "      <td>4.7755876</td>\n",
       "      <td>11.402709</td>\n",
       "      <td>4.8433304</td>\n",
       "      <td>5.047693</td>\n",
       "      <td>4.8216286</td>\n",
       "      <td>10.42895</td>\n",
       "      <td>...</td>\n",
       "      <td>4.572016166666667</td>\n",
       "      <td>0.7618873069785163</td>\n",
       "      <td>9.773000566666667</td>\n",
       "      <td>3.3582304192968317</td>\n",
       "      <td>4.6966143</td>\n",
       "      <td>0.5374381524739815</td>\n",
       "      <td>6.206725666666667</td>\n",
       "      <td>2.2742807993211587</td>\n",
       "      <td>4.630265966666666</td>\n",
       "      <td>0.7220268337223871</td>\n",
       "    </tr>\n",
       "    <tr>\n",
       "      <th>1376</th>\n",
       "      <td>a2837-07-12-02-at-11h35m49s-_MG_8848_0.JPG</td>\n",
       "      <td>3.558062</td>\n",
       "      <td>4.5193973</td>\n",
       "      <td>3.6445863</td>\n",
       "      <td>4.5197487</td>\n",
       "      <td>4.036477</td>\n",
       "      <td>4.5210314</td>\n",
       "      <td>3.6387923</td>\n",
       "      <td>4.517045</td>\n",
       "      <td>8.686236</td>\n",
       "      <td>...</td>\n",
       "      <td>4.299335</td>\n",
       "      <td>0.9021334140669254</td>\n",
       "      <td>4.8338540666666665</td>\n",
       "      <td>2.8652186851253796</td>\n",
       "      <td>4.3127316</td>\n",
       "      <td>0.8907271567178957</td>\n",
       "      <td>4.654929566666667</td>\n",
       "      <td>2.950595220168166</td>\n",
       "      <td>4.297074066666667</td>\n",
       "      <td>0.9007376085390106</td>\n",
       "    </tr>\n",
       "  </tbody>\n",
       "</table>\n",
       "<p>5 rows × 41 columns</p>\n",
       "</div>"
      ],
      "text/plain": [
       "                                        image-id      Normal   Normal.1  \\\n",
       "934                          a1895-kme_114_0.JPG  0.46160528   4.826983   \n",
       "1161        a2380-20060208_203256__MG_2849_0.JPG   1.3021176    4.50629   \n",
       "1175                    a2411-jmac_DSC1006_0.JPG   2.0422301   4.336164   \n",
       "1370                    a2822-jmac_MG_1389_0.JPG     5.71573   4.730751   \n",
       "1376  a2837-07-12-02-at-11h35m49s-_MG_8848_0.JPG    3.558062  4.5193973   \n",
       "\n",
       "       Normal.2   Normal.3   Normal.4   Normal.5   Normal.6   Normal.7  \\\n",
       "934   0.5367674   4.791236  0.7264625   4.702248  0.5316521  4.7921596   \n",
       "1161  1.3391248   4.614918  1.4874865   4.673078  1.3550206  4.5927496   \n",
       "1175  1.5627952  4.5029435   1.555829  4.4796534  1.7444133  4.4446006   \n",
       "1370   5.083129  4.7755876  11.402709  4.8433304   5.047693  4.8216286   \n",
       "1376  3.6445863  4.5197487   4.036477  4.5210314  3.6387923   4.517045   \n",
       "\n",
       "     OverExposed  ...            Green.2              Green.3  \\\n",
       "934    2.8952487  ...  4.485870566666667   0.5258084993829112   \n",
       "1161   2.9690685  ...  4.313831033333334    0.415169588070115   \n",
       "1175    12.32152  ...  4.333767566666666  0.34462441185561526   \n",
       "1370    10.42895  ...  4.572016166666667   0.7618873069785163   \n",
       "1376    8.686236  ...           4.299335   0.9021334140669254   \n",
       "\n",
       "                    Blue               Blue.1              Blue.2  \\\n",
       "934            1.4719146   0.9404494532685634  4.4005301333333335   \n",
       "1161  2.2015664999999998   0.8160994527875672   4.368181233333334   \n",
       "1175            1.480206  0.26457724062172594           4.4373064   \n",
       "1370   9.773000566666667   3.3582304192968317           4.6966143   \n",
       "1376  4.8338540666666665   2.8652186851253796           4.3127316   \n",
       "\n",
       "                   Blue.3                Gray              Gray.1  \\\n",
       "934    0.5326121853738442  1.3867685766666666  1.0532171186567552   \n",
       "1161   0.4115385007844455  2.0490215333333333  0.8337004310564412   \n",
       "1175  0.12994976359734842  2.1611816666666663  0.8736068800971535   \n",
       "1370   0.5374381524739815   6.206725666666667  2.2742807993211587   \n",
       "1376   0.8907271567178957   4.654929566666667   2.950595220168166   \n",
       "\n",
       "                 Gray.2               Gray.3  \n",
       "934   4.487370366666667   0.5270731168253624  \n",
       "1161          4.2869311   0.4214716538175967  \n",
       "1175          4.2484534  0.40556702039385145  \n",
       "1370  4.630265966666666   0.7220268337223871  \n",
       "1376  4.297074066666667   0.9007376085390106  \n",
       "\n",
       "[5 rows x 41 columns]"
      ]
     },
     "execution_count": 370,
     "metadata": {},
     "output_type": "execute_result"
    }
   ],
   "source": [
    "overexposed_img = df.loc[index]\n",
    "print(\"Total image = %s \"%len(overexposed_img))\n",
    "overexposed_img.head()"
   ]
  },
  {
   "cell_type": "code",
   "execution_count": 371,
   "id": "92cc4701",
   "metadata": {},
   "outputs": [
    {
     "name": "stdout",
     "output_type": "stream",
     "text": [
      "[0 1 2 3 4 5]\n"
     ]
    }
   ],
   "source": [
    "# Normal image\n",
    "Detected_green_Overexposed_skewness = overexposed_img[\"OverExposed.2\"]\n",
    "Detected_green_Overexposed_skewness =  Detected_green_Overexposed_skewness.astype(float)\n",
    "ax =  np.arange(0,Detected_green_Overexposed_skewness.count(),1)\n",
    "print(ax)"
   ]
  },
  {
   "cell_type": "code",
   "execution_count": 372,
   "id": "2434e6d3",
   "metadata": {},
   "outputs": [
    {
     "data": {
      "image/png": "[encoded data removed]",
      "text/plain": [
       "<Figure size 432x288 with 1 Axes>"
      ]
     },
     "metadata": {
      "needs_background": "light"
     },
     "output_type": "display_data"
    }
   ],
   "source": [
    "plt.plot(ax,Detected_green_Overexposed_skewness)\n",
    "plt.show()"
   ]
  },
  {
   "cell_type": "markdown",
   "id": "c25994df",
   "metadata": {},
   "source": [
    "**Normal image but detected as Underexposed**"
   ]
  },
  {
   "cell_type": "code",
   "execution_count": 375,
   "id": "a9b42923",
   "metadata": {},
   "outputs": [
    {
     "name": "stdout",
     "output_type": "stream",
     "text": [
      "[   5    6    9   20   39   85  112  131  141  142  163  171  172  202\n",
      "  234  252  261  262  289  298  300  305  306  312  333  350  356  369\n",
      "  388  391  398  424  440  462  491  501  517  534  580  595  596  613\n",
      "  633  636  675  680  709  733  789  793  860  914  915  920  939 1034\n",
      " 1076 1077 1094 1103 1104 1121 1131 1179 1200 1222 1225 1229 1234 1273\n",
      " 1300 1301 1305 1319 1333 1371 1389 1392 1408 1410 1489 1508 1586 1595\n",
      " 1627 1639 1647 1690 1716 1750 1759 1771 1789 1848 1850 1852 1862 1865\n",
      " 1923 1939 1950 1951 1954 1969 1994 1999 2027 2060 2069 2085 2088 2089\n",
      " 2091 2105 2108 2122]\n"
     ]
    }
   ],
   "source": [
    "# make a broadcasted comparison\n",
    "mat = underexposed['image'].values == df['image-id'].values[:, None]\n",
    "# find the indices where the values are True\n",
    "where = np.argwhere(mat)\n",
    "index = where[:,0]\n",
    "# select the values\n",
    "# values = df['image-id'][where[:, 0]]\n",
    "# print(where)\n",
    "print(where[:,0])"
   ]
  },
  {
   "cell_type": "code",
   "execution_count": 376,
   "id": "ebc16c28",
   "metadata": {},
   "outputs": [
    {
     "name": "stdout",
     "output_type": "stream",
     "text": [
      "Total image = 116 \n"
     ]
    },
    {
     "data": {
      "text/html": [
       "<div>\n",
       "<style scoped>\n",
       "    .dataframe tbody tr th:only-of-type {\n",
       "        vertical-align: middle;\n",
       "    }\n",
       "\n",
       "    .dataframe tbody tr th {\n",
       "        vertical-align: top;\n",
       "    }\n",
       "\n",
       "    .dataframe thead th {\n",
       "        text-align: right;\n",
       "    }\n",
       "</style>\n",
       "<table border=\"1\" class=\"dataframe\">\n",
       "  <thead>\n",
       "    <tr style=\"text-align: right;\">\n",
       "      <th></th>\n",
       "      <th>image-id</th>\n",
       "      <th>Normal</th>\n",
       "      <th>Normal.1</th>\n",
       "      <th>Normal.2</th>\n",
       "      <th>Normal.3</th>\n",
       "      <th>Normal.4</th>\n",
       "      <th>Normal.5</th>\n",
       "      <th>Normal.6</th>\n",
       "      <th>Normal.7</th>\n",
       "      <th>OverExposed</th>\n",
       "      <th>...</th>\n",
       "      <th>Green.2</th>\n",
       "      <th>Green.3</th>\n",
       "      <th>Blue</th>\n",
       "      <th>Blue.1</th>\n",
       "      <th>Blue.2</th>\n",
       "      <th>Blue.3</th>\n",
       "      <th>Gray</th>\n",
       "      <th>Gray.1</th>\n",
       "      <th>Gray.2</th>\n",
       "      <th>Gray.3</th>\n",
       "    </tr>\n",
       "  </thead>\n",
       "  <tbody>\n",
       "    <tr>\n",
       "      <th>5</th>\n",
       "      <td>a0007-IMG_2480_0.JPG</td>\n",
       "      <td>0.35935497</td>\n",
       "      <td>5.196602</td>\n",
       "      <td>0.45196876</td>\n",
       "      <td>5.20235</td>\n",
       "      <td>0.664799</td>\n",
       "      <td>5.2212048</td>\n",
       "      <td>0.4477783</td>\n",
       "      <td>5.196538</td>\n",
       "      <td>2.8890507</td>\n",
       "      <td>...</td>\n",
       "      <td>5.0012</td>\n",
       "      <td>0.15728375928874533</td>\n",
       "      <td>1.8022019</td>\n",
       "      <td>1.0358729321883098</td>\n",
       "      <td>5.022415766666666</td>\n",
       "      <td>0.15735147885283912</td>\n",
       "      <td>1.5420105333333334</td>\n",
       "      <td>1.0458740038580376</td>\n",
       "      <td>4.9944435</td>\n",
       "      <td>0.15775862699442694</td>\n",
       "    </tr>\n",
       "    <tr>\n",
       "      <th>6</th>\n",
       "      <td>a0008-WP_CRW_3959_0.JPG</td>\n",
       "      <td>0.8491604</td>\n",
       "      <td>4.864385</td>\n",
       "      <td>0.9039519</td>\n",
       "      <td>4.736558</td>\n",
       "      <td>2.858573</td>\n",
       "      <td>4.444159</td>\n",
       "      <td>0.99266016</td>\n",
       "      <td>4.7403307</td>\n",
       "      <td>1.7792646</td>\n",
       "      <td>...</td>\n",
       "      <td>4.6346538</td>\n",
       "      <td>0.3723542083000359</td>\n",
       "      <td>3.4179894333333336</td>\n",
       "      <td>0.4761306429351392</td>\n",
       "      <td>4.371736666666667</td>\n",
       "      <td>0.37434771389010635</td>\n",
       "      <td>1.5830586199999999</td>\n",
       "      <td>0.4176980729918053</td>\n",
       "      <td>4.634454233333334</td>\n",
       "      <td>0.36149869586704686</td>\n",
       "    </tr>\n",
       "    <tr>\n",
       "      <th>9</th>\n",
       "      <td>a0011-DSC_0082_0.JPG</td>\n",
       "      <td>0.5627613</td>\n",
       "      <td>4.84314</td>\n",
       "      <td>0.4017716</td>\n",
       "      <td>4.83835</td>\n",
       "      <td>0.3698581</td>\n",
       "      <td>4.9646535</td>\n",
       "      <td>0.42386627</td>\n",
       "      <td>4.833616</td>\n",
       "      <td>-0.28721496</td>\n",
       "      <td>...</td>\n",
       "      <td>4.751580633333333</td>\n",
       "      <td>0.4219952948611502</td>\n",
       "      <td>0.42884800000000006</td>\n",
       "      <td>0.8914800130519174</td>\n",
       "      <td>4.8804234</td>\n",
       "      <td>0.4137065473446364</td>\n",
       "      <td>0.6193007333333334</td>\n",
       "      <td>0.6855362508414199</td>\n",
       "      <td>4.748525399999999</td>\n",
       "      <td>0.4249868249048277</td>\n",
       "    </tr>\n",
       "    <tr>\n",
       "      <th>20</th>\n",
       "      <td>a0041-IMG_4972_0.JPG</td>\n",
       "      <td>3.5869563</td>\n",
       "      <td>4.724756</td>\n",
       "      <td>3.5379992</td>\n",
       "      <td>4.538183</td>\n",
       "      <td>3.256729</td>\n",
       "      <td>4.4768076</td>\n",
       "      <td>3.872859</td>\n",
       "      <td>4.6157327</td>\n",
       "      <td>1.8084989</td>\n",
       "      <td>...</td>\n",
       "      <td>4.523370066666668</td>\n",
       "      <td>0.5091887888768524</td>\n",
       "      <td>4.491223066666667</td>\n",
       "      <td>2.444152698299701</td>\n",
       "      <td>4.4508661</td>\n",
       "      <td>0.44152643059414537</td>\n",
       "      <td>4.272348</td>\n",
       "      <td>2.0559613076120864</td>\n",
       "      <td>4.5884691</td>\n",
       "      <td>0.4836980504472599</td>\n",
       "    </tr>\n",
       "    <tr>\n",
       "      <th>39</th>\n",
       "      <td>a0083-jmac_MG_0082_0.JPG</td>\n",
       "      <td>2.4921594</td>\n",
       "      <td>5.005829</td>\n",
       "      <td>3.2175736</td>\n",
       "      <td>4.9292865</td>\n",
       "      <td>3.2633047</td>\n",
       "      <td>4.9013114</td>\n",
       "      <td>3.1082506</td>\n",
       "      <td>4.935295</td>\n",
       "      <td>1.2018517</td>\n",
       "      <td>...</td>\n",
       "      <td>4.890525433333333</td>\n",
       "      <td>0.3359310054088121</td>\n",
       "      <td>2.730322166666667</td>\n",
       "      <td>0.6873242322406039</td>\n",
       "      <td>4.863925133333333</td>\n",
       "      <td>0.31983785021560884</td>\n",
       "      <td>2.7642621999999997</td>\n",
       "      <td>0.7901751910987503</td>\n",
       "      <td>4.889288533333334</td>\n",
       "      <td>0.34293838917543534</td>\n",
       "    </tr>\n",
       "  </tbody>\n",
       "</table>\n",
       "<p>5 rows × 41 columns</p>\n",
       "</div>"
      ],
      "text/plain": [
       "                    image-id      Normal  Normal.1    Normal.2   Normal.3  \\\n",
       "5       a0007-IMG_2480_0.JPG  0.35935497  5.196602  0.45196876    5.20235   \n",
       "6    a0008-WP_CRW_3959_0.JPG   0.8491604  4.864385   0.9039519   4.736558   \n",
       "9       a0011-DSC_0082_0.JPG   0.5627613   4.84314   0.4017716    4.83835   \n",
       "20      a0041-IMG_4972_0.JPG   3.5869563  4.724756   3.5379992   4.538183   \n",
       "39  a0083-jmac_MG_0082_0.JPG   2.4921594  5.005829   3.2175736  4.9292865   \n",
       "\n",
       "     Normal.4   Normal.5    Normal.6   Normal.7  OverExposed  ...  \\\n",
       "5    0.664799  5.2212048   0.4477783   5.196538    2.8890507  ...   \n",
       "6    2.858573   4.444159  0.99266016  4.7403307    1.7792646  ...   \n",
       "9   0.3698581  4.9646535  0.42386627   4.833616  -0.28721496  ...   \n",
       "20   3.256729  4.4768076    3.872859  4.6157327    1.8084989  ...   \n",
       "39  3.2633047  4.9013114   3.1082506   4.935295    1.2018517  ...   \n",
       "\n",
       "              Green.2              Green.3                 Blue  \\\n",
       "5              5.0012  0.15728375928874533            1.8022019   \n",
       "6           4.6346538   0.3723542083000359   3.4179894333333336   \n",
       "9   4.751580633333333   0.4219952948611502  0.42884800000000006   \n",
       "20  4.523370066666668   0.5091887888768524    4.491223066666667   \n",
       "39  4.890525433333333   0.3359310054088121    2.730322166666667   \n",
       "\n",
       "                Blue.1             Blue.2               Blue.3  \\\n",
       "5   1.0358729321883098  5.022415766666666  0.15735147885283912   \n",
       "6   0.4761306429351392  4.371736666666667  0.37434771389010635   \n",
       "9   0.8914800130519174          4.8804234   0.4137065473446364   \n",
       "20   2.444152698299701          4.4508661  0.44152643059414537   \n",
       "39  0.6873242322406039  4.863925133333333  0.31983785021560884   \n",
       "\n",
       "                  Gray              Gray.1             Gray.2  \\\n",
       "5   1.5420105333333334  1.0458740038580376          4.9944435   \n",
       "6   1.5830586199999999  0.4176980729918053  4.634454233333334   \n",
       "9   0.6193007333333334  0.6855362508414199  4.748525399999999   \n",
       "20            4.272348  2.0559613076120864          4.5884691   \n",
       "39  2.7642621999999997  0.7901751910987503  4.889288533333334   \n",
       "\n",
       "                 Gray.3  \n",
       "5   0.15775862699442694  \n",
       "6   0.36149869586704686  \n",
       "9    0.4249868249048277  \n",
       "20   0.4836980504472599  \n",
       "39  0.34293838917543534  \n",
       "\n",
       "[5 rows x 41 columns]"
      ]
     },
     "execution_count": 376,
     "metadata": {},
     "output_type": "execute_result"
    }
   ],
   "source": [
    "underexposed_img = df.loc[index]\n",
    "print(\"Total image = %s \"%len(underexposed_img))\n",
    "underexposed_img.head()"
   ]
  },
  {
   "cell_type": "code",
   "execution_count": 377,
   "id": "1b750c18",
   "metadata": {},
   "outputs": [
    {
     "name": "stdout",
     "output_type": "stream",
     "text": [
      "[  0   1   2   3   4   5   6   7   8   9  10  11  12  13  14  15  16  17\n",
      "  18  19  20  21  22  23  24  25  26  27  28  29  30  31  32  33  34  35\n",
      "  36  37  38  39  40  41  42  43  44  45  46  47  48  49  50  51  52  53\n",
      "  54  55  56  57  58  59  60  61  62  63  64  65  66  67  68  69  70  71\n",
      "  72  73  74  75  76  77  78  79  80  81  82  83  84  85  86  87  88  89\n",
      "  90  91  92  93  94  95  96  97  98  99 100 101 102 103 104 105 106 107\n",
      " 108 109 110 111 112 113 114 115]\n"
     ]
    }
   ],
   "source": [
    "# Normal image\n",
    "Detected_green_normal_underexposed_skewness = underexposed_img[\"UnderExposed.2\"][:]\n",
    "Detected_green_normal_underexposed_skewness =  Detected_green_normal_underexposed_skewness.astype(float)\n",
    "ax =  np.arange(0,Detected_green_normal_underexposed_skewness.count(),1)\n",
    "print(ax)"
   ]
  },
  {
   "cell_type": "code",
   "execution_count": 378,
   "id": "e387aff1",
   "metadata": {},
   "outputs": [
    {
     "data": {
      "image/png": "[encoded data removed]",
      "text/plain": [
       "<Figure size 432x288 with 1 Axes>"
      ]
     },
     "metadata": {
      "needs_background": "light"
     },
     "output_type": "display_data"
    }
   ],
   "source": [
    "plt.plot(ax,Detected_green_normal_underexposed_skewness)\n",
    "plt.show()"
   ]
  },
  {
   "cell_type": "code",
   "execution_count": null,
   "id": "b1595f58",
   "metadata": {},
   "outputs": [],
   "source": []
  }
 ],
 "metadata": {
  "kernelspec": {
   "display_name": "Python 3 (ipykernel)",
   "language": "python",
   "name": "python3"
  },
  "language_info": {
   "codemirror_mode": {
    "name": "ipython",
    "version": 3
   },
   "file_extension": ".py",
   "mimetype": "text/x-python",
   "name": "python",
   "nbconvert_exporter": "python",
   "pygments_lexer": "ipython3",
   "version": "3.10.4"
  }
 },
 "nbformat": 4,
 "nbformat_minor": 5
}
